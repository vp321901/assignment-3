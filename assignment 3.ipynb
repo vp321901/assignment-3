{
 "cells": [
  {
   "cell_type": "code",
   "execution_count": 20,
   "id": "9245d8cd-712a-4d77-86ee-e5f4cb75b074",
   "metadata": {},
   "outputs": [],
   "source": [
    "    #Answer 1\n",
    "\n",
    "  # \"\"\" The def keyword is used to create, (or define) a function\"\"\"\n"
   ]
  },
  {
   "cell_type": "code",
   "execution_count": 19,
   "id": "8a7a1d0f-7846-49c6-82e6-3b9b0898c164",
   "metadata": {},
   "outputs": [
    {
     "name": "stdout",
     "output_type": "stream",
     "text": [
      "[1, 3, 5, 7, 9, 11, 13, 15, 17, 19, 21, 23, 25]\n"
     ]
    }
   ],
   "source": [
    "def get_odd_numbers():\n",
    "    odd_numbers = []\n",
    "    for num in range(1, 26):\n",
    "        if num % 2 != 0:\n",
    "            odd_numbers.append(num)\n",
    "    return odd_numbers\n",
    "\n",
    "odd_numbers_list = get_odd_numbers()\n",
    "print(odd_numbers_list)"
   ]
  },
  {
   "cell_type": "code",
   "execution_count": 22,
   "id": "d0f2fa56-2db4-4bc6-8686-e93bdc178074",
   "metadata": {},
   "outputs": [],
   "source": [
    "      # Answer 2\n",
    "   # You can use *args and **kwargs as arguments of a function ,\n",
    "   # when you are unsure about the number of arguments to pass in the functions."
   ]
  },
  {
   "cell_type": "code",
   "execution_count": 25,
   "id": "e1d2da44-4126-408e-a9f3-acfe94f5824f",
   "metadata": {},
   "outputs": [
    {
     "name": "stdout",
     "output_type": "stream",
     "text": [
      "(1, 1, 1, 1) <class 'tuple'>\n"
     ]
    }
   ],
   "source": [
    "#function for args\n",
    "def test(*args):\n",
    "    print(args , type(args))\n",
    "    \n",
    "test(1,1,1,1)"
   ]
  },
  {
   "cell_type": "code",
   "execution_count": 28,
   "id": "da880e28-0514-4867-8e8a-96205a9098f9",
   "metadata": {},
   "outputs": [],
   "source": [
    "#function for **kwargs\n",
    "def test2(**kwargs):\n",
    "    return kwargs    "
   ]
  },
  {
   "cell_type": "code",
   "execution_count": 31,
   "id": "052a6e8a-6ff6-4c32-8c5f-1c72a4c32d3d",
   "metadata": {},
   "outputs": [
    {
     "data": {
      "text/plain": [
       "{'a': 'vipul', 'b': 'tushar', 'c': 24}"
      ]
     },
     "execution_count": 31,
     "metadata": {},
     "output_type": "execute_result"
    }
   ],
   "source": [
    "test2(a = \"vipul\", b = \"tushar\", c = 24)"
   ]
  },
  {
   "cell_type": "code",
   "execution_count": null,
   "id": "8cd7742f-8b0e-4a4b-a268-4243876b0f95",
   "metadata": {},
   "outputs": [],
   "source": [
    "  #Answer 3\n",
    "\"\"\"An iterator is an object that contains a countable number of values.\n",
    "An iterator is an object that can be iterated upon, meaning that you can traverse through all the values.\n",
    "Iter() method is used to initialize the iterator object.\n",
    "so that the instance of this object can be used for iterating\"\"\""
   ]
  },
  {
   "cell_type": "code",
   "execution_count": 40,
   "id": "2c8f8131-e577-4eda-9670-8b8b8e02a2ee",
   "metadata": {},
   "outputs": [
    {
     "name": "stdout",
     "output_type": "stream",
     "text": [
      "2\n",
      "4\n",
      "6\n",
      "8\n",
      "10\n"
     ]
    }
   ],
   "source": [
    "l = [2, 4, 6, 8, 10, 12, 14, 16, 18, 20]\n",
    "\n",
    "\n",
    "iterator = iter(l)\n",
    "for i in range(5):\n",
    "    element = next(iterator)\n",
    "    print(element)\n"
   ]
  },
  {
   "cell_type": "code",
   "execution_count": null,
   "id": "ccf77915-34a0-4666-ac6f-be5cb13421e1",
   "metadata": {},
   "outputs": [],
   "source": [
    "   #Answer 4\n",
    "\n",
    "\"\"\"generator function are useful when we want to produce a large sequence of value,\n",
    "but we do not want to store all of them in memory at once\n",
    "The yield keyword in Python controls the flow of a generator function.\n",
    "This is similar to a return statement used for returning values in Python.\n",
    "\"\"\""
   ]
  },
  {
   "cell_type": "code",
   "execution_count": 44,
   "id": "c314fd68-2035-4194-a864-bb9634923efd",
   "metadata": {},
   "outputs": [
    {
     "name": "stdout",
     "output_type": "stream",
     "text": [
      "0\n",
      "1\n",
      "2\n",
      "3\n",
      "4\n",
      "5\n"
     ]
    }
   ],
   "source": [
    "#example of generator function\n",
    "def count_test(n):\n",
    "    count = 0\n",
    "    while count <= n :\n",
    "        yield count\n",
    "        count = count + 1\n",
    "        \n",
    "        \n",
    "c = count_test(5)\n",
    "\n",
    "for i in c:\n",
    "    print(i)\n",
    "    \n",
    "    "
   ]
  },
  {
   "cell_type": "code",
   "execution_count": 4,
   "id": "dc428d80-5906-4e37-a378-9f7b8a6ed186",
   "metadata": {},
   "outputs": [],
   "source": [
    "                      #Answer 5\n",
    "   "
   ]
  },
  {
   "cell_type": "code",
   "execution_count": 3,
   "id": "ce15d0cf-db4e-441c-acb8-16f57773964b",
   "metadata": {},
   "outputs": [
    {
     "name": "stdout",
     "output_type": "stream",
     "text": [
      "2\n",
      "3\n",
      "5\n",
      "7\n",
      "11\n",
      "13\n",
      "17\n",
      "19\n",
      "23\n",
      "29\n",
      "31\n",
      "37\n",
      "41\n",
      "43\n",
      "47\n",
      "53\n",
      "59\n",
      "61\n",
      "67\n",
      "71\n"
     ]
    }
   ],
   "source": [
    "def prime_generator():\n",
    "    primes = []\n",
    "    num = 2\n",
    "    while num < 1000:\n",
    "        is_prime = True\n",
    "        for prime in primes:\n",
    "            if num % prime == 0:\n",
    "                is_prime = False\n",
    "                break\n",
    "        if is_prime:\n",
    "            primes.append(num)\n",
    "            yield num\n",
    "        num += 1\n",
    "\n",
    "# Using the generator to print the first 20 prime numbers\n",
    "generator = prime_generator()\n",
    "for _ in range(20):\n",
    "    prime = next(generator)\n",
    "    print(prime)\n"
   ]
  },
  {
   "cell_type": "code",
   "execution_count": 5,
   "id": "db0f23c1-dc4f-42d0-a4f6-beca56aa2ea4",
   "metadata": {},
   "outputs": [],
   "source": [
    "        #Answer 6"
   ]
  },
  {
   "cell_type": "code",
   "execution_count": 7,
   "id": "6f4910c5-2ad1-46c3-8c5d-4eac25f3dec7",
   "metadata": {},
   "outputs": [
    {
     "name": "stdout",
     "output_type": "stream",
     "text": [
      "0\n",
      "1\n",
      "1\n",
      "2\n",
      "3\n",
      "5\n",
      "8\n",
      "13\n",
      "21\n",
      "34\n",
      "None\n"
     ]
    }
   ],
   "source": [
    "def fib():\n",
    "    n1 , n2 = 0,1\n",
    "    count = 0\n",
    "    \n",
    "    while count < 10 :\n",
    "        print(n1)\n",
    "        nth = n1 + n2\n",
    "        n1 = n2\n",
    "        n2 = nth\n",
    "        count += 1\n",
    "        \n",
    "print(fib())"
   ]
  },
  {
   "cell_type": "code",
   "execution_count": 8,
   "id": "5fcd1df5-8005-46e9-a88c-37aefdd32510",
   "metadata": {},
   "outputs": [],
   "source": [
    "      #Answer 7"
   ]
  },
  {
   "cell_type": "code",
   "execution_count": 9,
   "id": "6677a764-bdbd-42dd-8dbe-0a85b55aca8f",
   "metadata": {},
   "outputs": [],
   "source": [
    "s =\"pwskills\""
   ]
  },
  {
   "cell_type": "code",
   "execution_count": 11,
   "id": "cd892bd4-7e4f-4a78-bff8-f1b570e0fa4f",
   "metadata": {},
   "outputs": [
    {
     "data": {
      "text/plain": [
       "['P', 'W', 'S', 'K', 'I', 'L', 'L', 'S']"
      ]
     },
     "execution_count": 11,
     "metadata": {},
     "output_type": "execute_result"
    }
   ],
   "source": [
    "list(s.upper())"
   ]
  },
  {
   "cell_type": "code",
   "execution_count": 12,
   "id": "50dc26b0-b9e4-4441-b36d-6df54ae2f42f",
   "metadata": {},
   "outputs": [],
   "source": [
    "        #Answer 8"
   ]
  },
  {
   "cell_type": "code",
   "execution_count": 3,
   "id": "cbfc13ad-2c5d-4348-bcd3-ae3385f9bd93",
   "metadata": {},
   "outputs": [
    {
     "name": "stdin",
     "output_type": "stream",
     "text": [
      "Enter a number:  2222\n"
     ]
    },
    {
     "name": "stdout",
     "output_type": "stream",
     "text": [
      "2222 is a palindrome\n"
     ]
    }
   ],
   "source": [
    "# Function to check if a number is palindrome\n",
    "def is_palindrome(num):\n",
    "    original_num = num\n",
    "    reversed_num = 0\n",
    "\n",
    "    while num > 0:\n",
    "        digit = num % 10\n",
    "        reversed_num = (reversed_num * 10) + digit\n",
    "        num //= 10\n",
    "\n",
    "    if original_num == reversed_num:\n",
    "        return True\n",
    "    else:\n",
    "        return False\n",
    "\n",
    "# Taking input from the user\n",
    "num = int(input(\"Enter a number: \"))\n",
    "\n",
    "# Checking if the number is a palindrome\n",
    "if is_palindrome(num):\n",
    "    print(num, \"is a palindrome\")\n",
    "else:\n",
    "    print(num, \"is not a palindrome\")\n"
   ]
  },
  {
   "cell_type": "code",
   "execution_count": 4,
   "id": "6940b5a8-517f-4e66-addd-ba1ac45261fc",
   "metadata": {},
   "outputs": [],
   "source": [
    "             #Answer 9"
   ]
  },
  {
   "cell_type": "code",
   "execution_count": 3,
   "id": "02bc0187-eda0-456a-8b71-624106afd32a",
   "metadata": {},
   "outputs": [
    {
     "name": "stdout",
     "output_type": "stream",
     "text": [
      "[1, 3, 5, 7, 9, 11, 13, 15, 17, 19, 21, 23, 25, 27, 29, 31, 33, 35, 37, 39, 41, 43, 45, 47, 49, 51, 53, 55, 57, 59, 61, 63, 65, 67, 69, 71, 73, 75, 77, 79, 81, 83, 85, 87, 89, 91, 93, 95, 97, 99]\n"
     ]
    }
   ],
   "source": [
    "l = []\n",
    "for i in range(1,101):\n",
    "    if i % 2 != 0:\n",
    "        l.append(i)\n",
    "        \n",
    "print(l)"
   ]
  },
  {
   "cell_type": "code",
   "execution_count": null,
   "id": "bc4734d3-899f-4a51-9cb1-6c7bd3bdca05",
   "metadata": {},
   "outputs": [],
   "source": []
  }
 ],
 "metadata": {
  "kernelspec": {
   "display_name": "Python 3 (ipykernel)",
   "language": "python",
   "name": "python3"
  },
  "language_info": {
   "codemirror_mode": {
    "name": "ipython",
    "version": 3
   },
   "file_extension": ".py",
   "mimetype": "text/x-python",
   "name": "python",
   "nbconvert_exporter": "python",
   "pygments_lexer": "ipython3",
   "version": "3.10.8"
  }
 },
 "nbformat": 4,
 "nbformat_minor": 5
}
